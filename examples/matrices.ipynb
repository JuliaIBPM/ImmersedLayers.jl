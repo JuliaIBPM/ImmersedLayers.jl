{
 "cells": [
  {
   "cell_type": "markdown",
   "source": [
    "# Matrix operators"
   ],
   "metadata": {}
  },
  {
   "cell_type": "markdown",
   "source": [
    "Many solutions of partial differential equations with immersed layers, particularly Poisson problems,\n",
    "lead to saddle-point problems, in which the Schur complement operator is a matrix\n",
    "composed from some of the surface-grid operators discussed in Surface-grid operations.\n",
    "The package provides some convenience tools for constructing these matrices. By\n",
    "their nature, the construction of these matrices is slow, since each column\n",
    "involves the application of the same set of operations. However, the point\n",
    "of this construction is to do it once and store it for repeated application."
   ],
   "metadata": {}
  },
  {
   "cell_type": "markdown",
   "source": [
    "One common saddle point system is\n",
    "\n",
    "$$A = \\begin{bmatrix} L & R \\\\ R^T & 0 \\end{bmatrix}$$\n",
    "\n",
    "where $L$ is the discrete Laplacian and $R$ and $R^T$ are the regularization\n",
    "and interpolation operators (`regularize!` and `interpolate!`),\n",
    "respectively. This system arises in the solution of the Poisson equation\n",
    "with Dirichlet boundary conditions on the immersed surface. The Schur complement of this is\n",
    "$S = - R^T L^{-1} R$. This matrix can be obtained using the function `create_RTLinvR`."
   ],
   "metadata": {}
  },
  {
   "cell_type": "markdown",
   "source": [
    "Another common saddle point system is\n",
    "\n",
    "$$A = \\begin{bmatrix} L & D_s \\\\ G_s & R_n^T R_n \\end{bmatrix}$$\n",
    "\n",
    "where $D_s$ and $G_s$ are the surface divergence and gradient operators\n",
    "(`surface_divergence!` and `surface_grad!`),\n",
    "respectively, and $R_n$ and $R_n^T$ are `regularize_normal!` and `normal_interpolate!`.\n",
    "This system arises in the solution of the Poisson equation\n",
    "with Neumann boundary conditions on the immersed surface. The Schur complement of this is\n",
    "$S = R_n^T R_n - G_s L^{-1} D_s$. Each of the matrices in this are individually\n",
    "provided by the package, by the functions `create_nRTRn` and `create_GLinvD`,\n",
    "respectively. However, it is useful to know that the sum of these two\n",
    "matrices is exactly the matrix $-C_s L^{-1}C_s^T$, where $C_s$ and $C_s^T$ are\n",
    "surface curl operators `surface_curl!`. This complete matrix is provided by\n",
    "`create_CLinvCT`."
   ],
   "metadata": {}
  },
  {
   "cell_type": "markdown",
   "source": [
    "Another helpful matrix operator is the surface filter, given by\n",
    "\n",
    "$$\\tilde{R}^T R$$\n",
    "\n",
    "where $\\tilde{R}^T$ is a modified form of the interpolation operator,\n",
    "designed to return the regularized field to the surface points while\n",
    "maintaining the integral value of the original field [^1]. We can\n",
    "obtain this matrix with `create_surface_filter`."
   ],
   "metadata": {}
  },
  {
   "cell_type": "markdown",
   "source": [
    "---\n",
    "\n",
    "*This notebook was generated using [Literate.jl](https://github.com/fredrikekre/Literate.jl).*"
   ],
   "metadata": {}
  }
 ],
 "nbformat_minor": 3,
 "metadata": {
  "language_info": {
   "file_extension": ".jl",
   "mimetype": "application/julia",
   "name": "julia",
   "version": "1.8.2"
  },
  "kernelspec": {
   "name": "julia-1.8",
   "display_name": "Julia 1.8.2",
   "language": "julia"
  }
 },
 "nbformat": 4
}

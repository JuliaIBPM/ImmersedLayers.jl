{
 "cells": [
  {
   "cell_type": "markdown",
   "source": [
    "# Helmholtz decomposition"
   ],
   "metadata": {}
  },
  {
   "cell_type": "markdown",
   "source": [
    "For vector fields on the grid, we often prefer to work with potentials\n",
    "of that field and compose the vector field from these potentials. This\n",
    "is the so-called Helmholtz decomposition\n",
    "\n",
    "$$\\mathbf{v} = \\nabla\\phi + \\nabla\\times\\psi$$\n",
    "\n",
    "where $\\psi$ is a vector potential (or streamfunction in two dimensions)\n",
    "and $\\phi$ is a scalar potential. Note that, in an unbounded domain, $\\phi$\n",
    "satisfies a Poisson equation:\n",
    "\n",
    "$$\\nabla^2\\phi = \\nabla\\cdot\\mathbf{v}$$\n",
    "\n",
    "and, assuming that $\\psi$ has zero 'gauge' (i.e., its divergence is zero), then\n",
    "$\\psi$ also satisfies a Poisson equation:\n",
    "\n",
    "$$\\nabla^2\\psi = -\\nabla\\times\\mathbf{v}$$\n",
    "\n",
    "So we can recover the velocity field from the divergence and curl of the\n",
    "vector field (in fluid dynamics, these are the rate of dilatation and the vorticity,\n",
    "respectively) by solving these equations for the potentials and then\n",
    "evaluating their gradient and curl.\n",
    "\n",
    "With immersed layers, these are extendable to domains with surfaces\n",
    "and their associated jump in the vector field $[\\mathbf{v}] = \\mathbf{v}^+ - \\mathbf{v}^-$.\n",
    "The crucial relationships are\n",
    "\n",
    "$$\\nabla\\cdot{\\overline{\\mathbf{v}}} = \\overline{\\nabla\\cdot\\mathbf{v}} + \\delta(\\chi)\\mathbf{n}\\cdot[\\mathbf{v}]$$\n",
    "\n",
    "and\n",
    "\n",
    "$$\\nabla\\times{\\overline{\\mathbf{v}}} = \\overline{\\nabla\\times\\mathbf{v}} + \\delta(\\chi)\\mathbf{n}\\times[\\mathbf{v}]$$\n",
    "\n",
    "These are, respectively, the divergence and curl of the masked vector field, $\\overline{\\mathbf{v}}$.\n",
    "In `ImmersedLayers.jl`, we are always working with the masked form of a field,\n",
    "whether we acknowledge it or not. In contrast, the first terms on the right-hand sides of these are the masked divergence and curl\n",
    "of the vector field in each side of the surface. The difference between these is\n",
    "a type of single-layer surface term---a 'source sheet' or a 'vortex sheet', respectively---\n",
    "due to the jump in vector field. If we omit the overbar notation, then the Helmholtz\n",
    "decomposition and the Poisson equations all still hold.\n",
    "\n",
    "This package has a number of routines that can be used to perform the\n",
    "operations described here. They rely on two caches, `ScalarPotentialCache`\n",
    "and `VectorPotentialCache`, each of which supports one of the\n",
    "respective potentials. The function `vecfield_helmholtz!` carries\n",
    "out all of these operations in order to assemble the vector field $\\mathbf{v}$\n",
    "from the masked divergence and curl fields and the jump in the vector field.\n",
    "(We can also add an additional irrotational, divergence-free vector field during\n",
    "this assembly."
   ],
   "metadata": {}
  },
  {
   "cell_type": "markdown",
   "source": [
    "---\n",
    "\n",
    "*This notebook was generated using [Literate.jl](https://github.com/fredrikekre/Literate.jl).*"
   ],
   "metadata": {}
  }
 ],
 "nbformat_minor": 3,
 "metadata": {
  "language_info": {
   "file_extension": ".jl",
   "mimetype": "application/julia",
   "name": "julia",
   "version": "1.8.2"
  },
  "kernelspec": {
   "name": "julia-1.8",
   "display_name": "Julia 1.8.2",
   "language": "julia"
  }
 },
 "nbformat": 4
}
